{
 "cells": [
  {
   "cell_type": "markdown",
   "metadata": {},
   "source": [
    "# Assignment 1 -- MapReduce\n",
    "\n",
    "What you will do in this assignment is help construct a small MapReduce program. MapReduce is framework which Google uses to process petabytes of data every day using parallel computing methods. In this assignment, we'll be recreating it on a small scale.\n",
    "\n",
    "The way that MapReduce works is that it splits data into a bunch of little tasks. There are three separate tasks: the Map task, the Intermediate task, and the Reduce task.\n",
    "\n",
    "1. Map task – take some of data and split them between distinct keys and values\n",
    "2. Intermediate task – shuffle the keys into some logically order (this usually means sorting them)\n",
    "3. Reduce task – group data by keys and apply some function to their values\n",
    "\n",
    "The figure below shows the typical MapReduce processing flow. \n",
    "\n",
    "![](img/MapReduceWordCount-sourced.png)\n",
    "\n",
    "## Task -- WordCount\n",
    "\n",
    "What this assignment will do is create a program which will create a wordcounting program. You will be required to complete several <code>TODOs</code> to make the code operate correctly. If you can run this entire notebook and get it to produce the right result without error, you have completely the assignment.\n",
    "\n",
    "To get started, you can download this notebook by clicking Download on the repository page. "
   ]
  },
  {
   "cell_type": "code",
   "execution_count": 17,
   "metadata": {
    "collapsed": false
   },
   "outputs": [],
   "source": [
    "def map(doc):\n",
    "    \"\"\"\n",
    "        The map function. This function opens a single file, cleans the file of punctuation,\n",
    "        converts all of the text to lowercase, then emits the word plus a value for each word \n",
    "        in the document. In this case the value is constant (i.e. it is 1).\n",
    "    \"\"\"\n",
    "    import string\n",
    "    \n",
    "    ## TODO 1: Create an empty list called 'out'. \n",
    "    ## This will be the place where all the word-value pairs are stored.\n",
    "\n",
    "    ## gets all the lines from the document.\n",
    "    lines = open(doc, \"r\", encoding = \"utf-8\").read().split(\"\\n\")\n",
    "\n",
    "    ## TODO 2: Create a for loop with the looping variable 'line' and the list 'lines' \n",
    "    ## This loop will go through all the lines of each text document.\n",
    "    \n",
    "        ## removes the whitespace\n",
    "        line = line.strip()\n",
    "\n",
    "        ## removes punctuation\n",
    "        line = line.translate( str.maketrans(string.punctuation, ' ' * len(string.punctuation)) )\n",
    "\n",
    "        ## converts the text to lowercase \n",
    "        line = line.lower()\n",
    "\n",
    "        ## this splits words at all whitespace\n",
    "        words = line.split(None)\n",
    "\n",
    "        ## prints out all the words with a count of 1\n",
    "        for w in words:\n",
    "\n",
    "            ## TODO 3: Create a tuple variable called 'emit'. \n",
    "            ## Assign the variable w and the integer 1 as the two elements of this tuple.\n",
    "            \n",
    "            ## TODO 4: Append emit to the end of the 'out' list which you created in TODO 1.\n",
    "\n",
    "    return out"
   ]
  },
  {
   "cell_type": "code",
   "execution_count": 37,
   "metadata": {
    "collapsed": false
   },
   "outputs": [],
   "source": [
    "def reduce(words):\n",
    "    \"\"\"\n",
    "        The reduce function. This loops through all the words in all the documents and sums\n",
    "        counts of all the words.\n",
    "    \"\"\"\n",
    "    c_key = None\n",
    "    \n",
    "    ## TODO 5: Create a variable called 'c_count' and assign it to 0.\n",
    "    counted = []\n",
    "\n",
    "    # input comes from the list of all words\n",
    "\n",
    "    ## TODO 6: Create a for loop with the looping variables 'key' and 'count' and the list 'words'.\n",
    "    ## HINT: This is similar to how we looped through a dictionary. There are three variables\n",
    "    ## which you are using here instead of two.\n",
    "\n",
    "        if c_key == key:\n",
    "            ## TODO 7: Add the variable 'count' to 'c_count'.\n",
    "        else:\n",
    "            if c_key:\n",
    "                # append result to counted\n",
    "                counted.append( (c_key, c_count) )\n",
    "\n",
    "            c_count = count\n",
    "            c_key   = key\n",
    "\n",
    "    ## append the current word if it is different from the past one\n",
    "    if c_key == key:\n",
    "        counted.append( (c_key, c_count) )\n",
    "\n",
    "    return counted"
   ]
  },
  {
   "cell_type": "code",
   "execution_count": 43,
   "metadata": {
    "collapsed": false
   },
   "outputs": [],
   "source": [
    "\"\"\"\n",
    "    This brings all the different steps togethere here.\n",
    "\"\"\"\n",
    "\n",
    "import glob\n",
    "\n",
    "## map task\n",
    "docs = list(glob.iglob(\"data/*.en\"))\n",
    "\n",
    "## TODO 8: Create an empty list called 'words'.\n",
    "\n",
    "## TODO 9: Create a for loop with the looping variable 'doc' and the list 'docs'.\n",
    "\n",
    "    ## The 'extend' method adds the elements of a list to another list.\n",
    "    words.extend(map(doc))\n",
    "\n",
    "## intermediate sorting task\n",
    "words = sorted(words)\n",
    "\n",
    "## reduce task\n",
    "wordcount = reduce(words)\n",
    "\n",
    "## as a final check, sorting in descending order the most used words\n",
    "wordcount = sorted(wordcount, key = lambda x: x[1], reverse = True)\n",
    "\n",
    "## TODO 10: Take a slice of the first 10 elements of this list.\n",
    "## This is a final check to display the 10 most frequently used words."
   ]
  }
 ],
 "metadata": {
  "anaconda-cloud": {},
  "kernelspec": {
   "display_name": "Python [Root]",
   "language": "python",
   "name": "Python [Root]"
  },
  "language_info": {
   "codemirror_mode": {
    "name": "ipython",
    "version": 3
   },
   "file_extension": ".py",
   "mimetype": "text/x-python",
   "name": "python",
   "nbconvert_exporter": "python",
   "pygments_lexer": "ipython3",
   "version": "3.5.2"
  }
 },
 "nbformat": 4,
 "nbformat_minor": 0
}
